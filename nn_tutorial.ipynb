{
 "cells": [
  {
   "cell_type": "markdown",
   "id": "4d4a29aa00bbf2e0",
   "metadata": {
    "collapsed": false
   },
   "source": [
    "# WHAT IS TORCH.NN *REALLY*?\n",
    "\n",
    "这是 PyTorch 官方文档的一篇 Tutorial：[WHAT IS TORCH.NN *REALLY*?](https://pytorch.org/tutorials/beginner/nn_tutorial.html)，深入浅出讲解了如何使用 PyTorch 构建深度学习模型。\n",
    "\n",
    "## MNIST 数据集\n",
    "\n",
    "MNIST 数据集是一个手写数字识别数据集，包含 60000 张训练图片和 10000 张测试图片，每张图片都是 28x28 的灰度图像。\n",
    "\n",
    "Tutorial 使用了 `pathlib` 和 `requests` 两个库来下载和处理数据集."
   ]
  },
  {
   "cell_type": "code",
   "execution_count": null,
   "id": "42f4fe06adadb970",
   "metadata": {
    "ExecuteTime": {
     "end_time": "2023-12-27T12:06:19.010442400Z",
     "start_time": "2023-12-27T12:06:18.994437400Z"
    },
    "collapsed": false
   },
   "outputs": [],
   "source": [
    "from pathlib import Path\n",
    "import requests\n",
    "\n",
    "DATA_PATH = Path(\"data\")\n",
    "PATH = DATA_PATH / \"mnist\"\n",
    "\n",
    "PATH.mkdir(parents=True, exist_ok=True)\n",
    "\n",
    "URL = \"https://github.com/pytorch/tutorials/raw/main/_static/\"\n",
    "FILENAME = \"mnist.pkl.gz\"\n",
    "\n",
    "if not (PATH / FILENAME).exists():\n",
    "    # get the file content\n",
    "    content = requests.get(URL + FILENAME).content\n",
    "    # write the content to a local file\n",
    "    (PATH / FILENAME).open(\"wb\").write(content)"
   ]
  },
  {
   "cell_type": "markdown",
   "id": "3099e76c059b30a3",
   "metadata": {
    "collapsed": false
   },
   "source": [
    "MNIST 数据集是以 numpy 数组的形式存储的，然后被压缩成了 gzip 格式。我们可以使用 `pickle` 库和 `gzip` 库来读取数据集。"
   ]
  },
  {
   "cell_type": "code",
   "execution_count": null,
   "id": "34ae84120e237f3d",
   "metadata": {
    "ExecuteTime": {
     "end_time": "2023-12-27T12:06:20.685395300Z",
     "start_time": "2023-12-27T12:06:20.129775800Z"
    },
    "collapsed": false
   },
   "outputs": [],
   "source": [
    "import pickle\n",
    "import gzip\n",
    "\n",
    "with gzip.open((PATH / FILENAME).as_posix(), \"rb\") as f:\n",
    "    ((x_train, y_train), (x_valid, y_valid), _) = pickle.load(f, encoding=\"latin-1\")"
   ]
  },
  {
   "cell_type": "markdown",
   "id": "14fe6498a9c97a0a",
   "metadata": {
    "collapsed": false
   },
   "source": [
    "每一张图都是 28x28 的矩阵，但是存的时候是被展开成了 784 维的向量。我们可以把它 reshape 回去。\n",
    "并且，可以使用 `matplotlib` 库来显示图片。"
   ]
  },
  {
   "cell_type": "code",
   "execution_count": 11,
   "id": "27ceb50e9cbe97d",
   "metadata": {
    "ExecuteTime": {
     "end_time": "2023-12-27T12:09:27.283114600Z",
     "start_time": "2023-12-27T12:09:27.236115800Z"
    },
    "collapsed": false
   },
   "outputs": [
    {
     "name": "stdout",
     "output_type": "stream",
     "text": [
      "torch.Size([60000, 784])\n"
     ]
    },
    {
     "data": {
      "image/png": "[encoded data removed]",
      "text/plain": [
       "<Figure size 640x480 with 1 Axes>"
      ]
     },
     "metadata": {},
     "output_type": "display_data"
    }
   ],
   "source": [
    "from matplotlib import pyplot\n",
    "import numpy as np\n",
    "\n",
    "pyplot.imshow(x_train[6].reshape((28, 28)), cmap=\"gray\")\n",
    "print(x_train.shape)"
   ]
  },
  {
   "cell_type": "markdown",
   "id": "84370c0e5d183318",
   "metadata": {
    "collapsed": false
   },
   "source": [
    "PyTorch 使用 `torch.Tensor` 来存储数据，而不是 numpy 数组。所以我们需要把数据转换成 `torch.Tensor` 的形式。\n",
    "\n",
    "- Tensor 是一个多维数组，它和 numpy 的 ndarray 很像，但是 Tensor 可以在 GPU 上运行，并且可以自动计算梯度。\n",
    "- 可以使用 `torch.tensor` 或 `torch.as_tensor` 函数来把 numpy 数组转换成 Tensor。\n",
    "    - `torch.tensor` 是一个函数，而 `torch.Tensor` 是一个类"
   ]
  },
  {
   "cell_type": "code",
   "execution_count": 3,
   "id": "3398b5e6060eea1a",
   "metadata": {
    "ExecuteTime": {
     "end_time": "2023-12-27T12:06:27.052332900Z",
     "start_time": "2023-12-27T12:06:27.036332100Z"
    },
    "collapsed": false
   },
   "outputs": [],
   "source": [
    "import torch\n",
    "\n",
    "x_train, y_train, x_valid, y_valid = map(\n",
    "    torch.as_tensor, (x_train, y_train, x_valid, y_valid)\n",
    ")"
   ]
  },
  {
   "cell_type": "markdown",
   "id": "117a923e4a9a2148",
   "metadata": {
    "collapsed": false
   },
   "source": [
    "或者，我们可以直接使用 `torchvision` 库来下载和处理数据集。\n",
    "- `torchvision` 是一个包含了许多计算机视觉数据集的库。\n",
    "- 无需转换数据格式，`torchvision` 会自动把数据转换成 `torch.Tensor` 的形式。"
   ]
  },
  {
   "cell_type": "code",
   "execution_count": 15,
   "id": "a8a7198e645a0e47",
   "metadata": {
    "ExecuteTime": {
     "end_time": "2023-12-27T12:08:58.257567600Z",
     "start_time": "2023-12-27T12:08:58.188194200Z"
    },
    "collapsed": false
   },
   "outputs": [
    {
     "name": "stdout",
     "output_type": "stream",
     "text": [
      "torch.Size([60000, 28, 28])\n",
      "torch.Size([60000, 784])\n"
     ]
    }
   ],
   "source": [
    "import torchvision\n",
    "\n",
    "MNIST = torchvision.datasets.MNIST(root='data', download=True)\n",
    "x_train, y_train = MNIST.data[:60000], MNIST.targets[:60000]\n",
    "x_valid, y_valid = MNIST.data[60000:], MNIST.targets[60000:]\n",
    "print(x_train.shape)\n",
    "\n",
    "# 由于下面是按照 flatten 的形式来处理数据，所以需要把数据 reshape 回去\n",
    "x_train, x_valid = x_train.reshape((-1, 28 * 28)), x_valid.reshape((-1, 28 * 28))\n",
    "x_train, x_valid = x_train.float(), x_valid.float()\n",
    "print(x_train.shape)"
   ]
  },
  {
   "cell_type": "markdown",
   "id": "c5dd381a0fae0f1e",
   "metadata": {
    "collapsed": false
   },
   "source": [
    "## 从零搭建神经网络\n",
    "\n",
    "我们先从一个简单的模型开始，然后逐步增加复杂度。\n",
    "\n",
    "与 `numpy` 类似，Pytorch 提供了一些基本的操作，比如 `torch.randn` 来生成随机数，`torch.matmul` 来做矩阵乘法。\n",
    "\n",
    "对于一个简单的神经网络，我们需要两个参数：\n",
    "- `weigths`：初始化权重的矩阵，通常是随机的\n",
    "    - 使用 [Xavier](http://proceedings.mlr.press/v9/glorot10a/glorot10a.pdf) 或者 [Kaiming](https://arxiv.org/abs/1502.01852) 初始化方法可以让模型更快收敛\n",
    "- `bias`：初始化偏差的向量，通常是 0\n",
    "\n"
   ]
  },
  {
   "cell_type": "code",
   "execution_count": 5,
   "id": "e122432c73646a84",
   "metadata": {
    "ExecuteTime": {
     "end_time": "2023-12-27T11:53:38.924700300Z",
     "start_time": "2023-12-27T11:53:38.919700400Z"
    },
    "collapsed": false
   },
   "outputs": [],
   "source": [
    "import math\n",
    "\n",
    "# Xavier 初始化方法\n",
    "weights = torch.randn(784, 10) / math.sqrt(784)\n",
    "# 初始化后设置 requires_grad=True，防止初始化步骤被记录\n",
    "# 以 _ 结尾表示原地操作\n",
    "weights.requires_grad_()\n",
    "bias = torch.zeros(10, requires_grad=True)"
   ]
  },
  {
   "cell_type": "markdown",
   "id": "559d0a121a128c45",
   "metadata": {
    "collapsed": false
   },
   "source": [
    "由于 Tensor 支持自动计算梯度，我们可以直接使用正常的 python 方法来构建神经网络。"
   ]
  },
  {
   "cell_type": "code",
   "execution_count": 39,
   "id": "46c263862835dff7",
   "metadata": {
    "ExecuteTime": {
     "end_time": "2023-12-27T11:59:48.263827Z",
     "start_time": "2023-12-27T11:59:48.253155900Z"
    },
    "collapsed": false
   },
   "outputs": [],
   "source": [
    "import torch.nn.functional as F\n",
    "\n",
    "def model(xb):\n",
    "    # @ 表示矩阵乘法\n",
    "    return F.log_softmax(xb @ weights + bias, dim=-1)"
   ]
  },
  {
   "cell_type": "markdown",
   "id": "d8ec3cae99fc6d10",
   "metadata": {
    "collapsed": false
   },
   "source": [
    "对一个 batch 的数据进行预测，我们可以使用 `model(xb)` 来计算预测结果。"
   ]
  },
  {
   "cell_type": "code",
   "execution_count": 40,
   "id": "7fde3af002bd7cd1",
   "metadata": {
    "ExecuteTime": {
     "end_time": "2023-12-27T12:09:38.838248900Z",
     "start_time": "2023-12-27T12:09:38.829254200Z"
    },
    "collapsed": false
   },
   "outputs": [
    {
     "data": {
      "text/plain": [
       "(tensor([-1.1109e+02, -1.8772e+02, -2.1302e+02, -1.4413e+01, -5.8696e+01,\n",
       "         -9.3142e+01, -5.9605e-07, -9.8720e+01, -1.7363e+02, -2.6312e+02],\n",
       "        grad_fn=<SelectBackward0>),\n",
       " torch.Size([64, 10]))"
      ]
     },
     "execution_count": 40,
     "metadata": {},
     "output_type": "execute_result"
    }
   ],
   "source": [
    "bs = 64  # batch size\n",
    "\n",
    "xb = x_train[0:bs]  # a mini-batch from x\n",
    "preds = model(xb)  # predictions\n",
    "preds[0], preds.shape"
   ]
  },
  {
   "cell_type": "code",
   "execution_count": null,
   "id": "c31011ca",
   "metadata": {},
   "outputs": [],
   "source": []
  }
 ],
 "metadata": {
  "kernelspec": {
   "display_name": "Python 3 (ipykernel)",
   "language": "python",
   "name": "python3"
  },
  "language_info": {
   "codemirror_mode": {
    "name": "ipython",
    "version": 3
   },
   "file_extension": ".py",
   "mimetype": "text/x-python",
   "name": "python",
   "nbconvert_exporter": "python",
   "pygments_lexer": "ipython3",
   "version": "3.9.16"
  }
 },
 "nbformat": 4,
 "nbformat_minor": 5
}

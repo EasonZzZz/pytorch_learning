{
 "cells": [
  {
   "cell_type": "markdown",
   "source": [
    "# WHAT IS TORCH.NN *REALLY*?\n",
    "\n",
    "这是 PyTorch 官方文档的一篇 Tutorial：[WHAT IS TORCH.NN *REALLY*?](https://pytorch.org/tutorials/beginner/nn_tutorial.html)，深入浅出讲解了如何使用 PyTorch 构建深度学习模型。\n",
    "\n",
    "## MNIST 数据集\n",
    "\n",
    "MNIST 数据集是一个手写数字识别数据集，包含 60000 张训练图片和 10000 张测试图片，每张图片都是 28x28 的灰度图像。\n",
    "\n",
    "Tutorial 使用了 `pathlib` 和 `requests` 两个库来下载和处理数据集."
   ],
   "metadata": {
    "collapsed": false
   },
   "id": "4d4a29aa00bbf2e0"
  },
  {
   "cell_type": "code",
   "execution_count": 1,
   "outputs": [],
   "source": [
    "from pathlib import Path\n",
    "import requests\n",
    "\n",
    "DATA_PATH = Path(\"data\")\n",
    "PATH = DATA_PATH / \"mnist\"\n",
    "\n",
    "PATH.mkdir(parents=True, exist_ok=True)\n",
    "\n",
    "URL = \"https://github.com/pytorch/tutorials/raw/main/_static/\"\n",
    "FILENAME = \"mnist.pkl.gz\"\n",
    "\n",
    "if not (PATH / FILENAME).exists():\n",
    "    # get the file content\n",
    "    content = requests.get(URL + FILENAME).content\n",
    "    # write the content to a local file\n",
    "    (PATH / FILENAME).open(\"wb\").write(content)"
   ],
   "metadata": {
    "collapsed": false,
    "ExecuteTime": {
     "end_time": "2023-12-28T05:11:11.260747600Z",
     "start_time": "2023-12-28T05:11:11.205153800Z"
    }
   },
   "id": "42f4fe06adadb970"
  },
  {
   "cell_type": "markdown",
   "source": [
    "MNIST 数据集是以 numpy 数组的形式存储的，然后被压缩成了 gzip 格式。我们可以使用 `pickle` 库和 `gzip` 库来读取数据集。"
   ],
   "metadata": {
    "collapsed": false
   },
   "id": "3099e76c059b30a3"
  },
  {
   "cell_type": "code",
   "execution_count": 2,
   "outputs": [],
   "source": [
    "import pickle\n",
    "import gzip\n",
    "\n",
    "with gzip.open((PATH / FILENAME).as_posix(), \"rb\") as f:\n",
    "    ((x_train, y_train), (x_valid, y_valid), _) = pickle.load(f, encoding=\"latin-1\")"
   ],
   "metadata": {
    "collapsed": false,
    "ExecuteTime": {
     "end_time": "2023-12-28T05:11:13.350553Z",
     "start_time": "2023-12-28T05:11:12.692454500Z"
    }
   },
   "id": "34ae84120e237f3d"
  },
  {
   "cell_type": "markdown",
   "source": [
    "每一张图都是 28x28 的矩阵，但是存的时候是被展开成了 784 维的向量。我们可以把它 reshape 回去。\n",
    "并且，可以使用 `matplotlib` 库来显示图片。"
   ],
   "metadata": {
    "collapsed": false
   },
   "id": "14fe6498a9c97a0a"
  },
  {
   "cell_type": "code",
   "execution_count": 3,
   "outputs": [
    {
     "name": "stdout",
     "output_type": "stream",
     "text": [
      "(50000, 784)\n"
     ]
    },
    {
     "data": {
      "text/plain": "<Figure size 432x288 with 1 Axes>",
      "image/png": "[encoded data removed]"
     },
     "metadata": {
      "needs_background": "light"
     },
     "output_type": "display_data"
    }
   ],
   "source": [
    "from matplotlib import pyplot\n",
    "import numpy as np\n",
    "\n",
    "pyplot.imshow(x_train[0].reshape((28, 28)), cmap=\"gray\")\n",
    "print(x_train.shape)"
   ],
   "metadata": {
    "collapsed": false,
    "ExecuteTime": {
     "end_time": "2023-12-28T05:11:15.159408700Z",
     "start_time": "2023-12-28T05:11:14.587912900Z"
    }
   },
   "id": "27ceb50e9cbe97d"
  },
  {
   "cell_type": "markdown",
   "source": [
    "PyTorch 使用 `torch.Tensor` 来存储数据，而不是 numpy 数组。所以我们需要把数据转换成 `torch.Tensor` 的形式。\n",
    "\n",
    "- Tensor 是一个多维数组，它和 numpy 的 ndarray 很像，但是 Tensor 可以在 GPU 上运行，并且可以自动计算梯度。\n",
    "- 可以使用 `torch.tensor` 或 `torch.as_tensor` 函数来把 numpy 数组转换成 Tensor。\n",
    "    - `torch.tensor` 是一个函数，而 `torch.Tensor` 是一个类"
   ],
   "metadata": {
    "collapsed": false
   },
   "id": "84370c0e5d183318"
  },
  {
   "cell_type": "code",
   "execution_count": 5,
   "outputs": [],
   "source": [
    "import torch\n",
    "\n",
    "x_train, y_train, x_valid, y_valid = map(\n",
    "    torch.as_tensor, (x_train, y_train, x_valid, y_valid)\n",
    ")"
   ],
   "metadata": {
    "collapsed": false,
    "ExecuteTime": {
     "end_time": "2023-12-28T05:11:41.810740900Z",
     "start_time": "2023-12-28T05:11:40.719108300Z"
    }
   },
   "id": "3398b5e6060eea1a"
  },
  {
   "cell_type": "markdown",
   "source": [
    "或者，我们可以直接使用 `torchvision` 库来下载和处理数据集。\n",
    "- `torchvision` 是一个包含了许多计算机视觉数据集的库。\n",
    "- 无需转换数据格式，`torchvision` 会自动把数据转换成 `torch.Tensor` 的形式。"
   ],
   "metadata": {
    "collapsed": false
   },
   "id": "117a923e4a9a2148"
  },
  {
   "cell_type": "code",
   "execution_count": 14,
   "outputs": [
    {
     "name": "stdout",
     "output_type": "stream",
     "text": [
      "torch.Size([60000, 28, 28])\n",
      "torch.Size([60000, 784])\n"
     ]
    }
   ],
   "source": [
    "import torchvision\n",
    "\n",
    "MNIST = torchvision.datasets.MNIST(root=PATH, download=True)\n",
    "x_train, y_train = MNIST.data[:60000], MNIST.targets[:60000]\n",
    "x_valid, y_valid = MNIST.data[60000:], MNIST.targets[60000:]\n",
    "print(x_train.shape)\n",
    "\n",
    "# 由于下面是按照 flatten 的形式来处理数据，所以需要把数据 reshape 回去\n",
    "x_train, x_valid = x_train.reshape((-1, 28 * 28)), x_valid.reshape((-1, 28 * 28))\n",
    "x_train, x_valid = x_train.float(), x_valid.float()\n",
    "scaler = torch.tensor(255.).float()\n",
    "x_train, x_valid = x_train / scaler, x_valid / scaler\n",
    "\n",
    "print(x_train.shape)"
   ],
   "metadata": {
    "collapsed": false,
    "ExecuteTime": {
     "end_time": "2023-12-28T05:13:11.546901900Z",
     "start_time": "2023-12-28T05:13:11.479803400Z"
    }
   },
   "id": "a8a7198e645a0e47"
  },
  {
   "cell_type": "markdown",
   "source": [
    "## 从零搭建神经网络\n",
    "\n",
    "我们先从一个简单的模型开始，然后逐步增加复杂度。\n",
    "\n",
    "与 `numpy` 类似，Pytorch 提供了一些基本的操作，比如 `torch.randn` 来生成随机数，`torch.matmul` 来做矩阵乘法。\n",
    "\n",
    "对于一个简单的神经网络，我们需要两个参数：\n",
    "- `weigths`：初始化权重的矩阵，通常是随机的\n",
    "    - 使用 [Xavier](http://proceedings.mlr.press/v9/glorot10a/glorot10a.pdf) 或者 [Kaiming](https://arxiv.org/abs/1502.01852) 初始化方法可以让模型更快收敛\n",
    "- `bias`：初始化偏差的向量，通常是 0\n",
    "\n"
   ],
   "metadata": {
    "collapsed": false
   },
   "id": "c5dd381a0fae0f1e"
  },
  {
   "cell_type": "code",
   "execution_count": 6,
   "outputs": [],
   "source": [
    "import math\n",
    "\n",
    "# Xavier 初始化方法\n",
    "weights = torch.randn(784, 10) / math.sqrt(784)\n",
    "# 初始化后设置 requires_grad=True，防止初始化步骤被记录\n",
    "# 以 _ 结尾表示原地操作\n",
    "weights.requires_grad_()\n",
    "bias = torch.zeros(10, requires_grad=True)"
   ],
   "metadata": {
    "collapsed": false,
    "ExecuteTime": {
     "end_time": "2023-12-28T05:11:46.735323700Z",
     "start_time": "2023-12-28T05:11:46.722185800Z"
    }
   },
   "id": "e122432c73646a84"
  },
  {
   "cell_type": "markdown",
   "source": [
    "由于 Tensor 支持自动计算梯度，我们可以直接使用正常的 python 方法来构建神经网络。"
   ],
   "metadata": {
    "collapsed": false
   },
   "id": "559d0a121a128c45"
  },
  {
   "cell_type": "code",
   "execution_count": 7,
   "outputs": [],
   "source": [
    "def log_softmax(x):\n",
    "    # sum(-1) 表示按照最后一个维度求和\n",
    "    # unsqueeze(-1) 表示在最后一个维度增加一个维度\n",
    "    return x - x.exp().sum(-1).log().unsqueeze(-1)\n",
    "\n",
    "def model(xb):\n",
    "    # @ 表示矩阵乘法\n",
    "    return log_softmax(xb @ weights + bias)"
   ],
   "metadata": {
    "collapsed": false,
    "ExecuteTime": {
     "end_time": "2023-12-28T05:11:47.465467100Z",
     "start_time": "2023-12-28T05:11:47.461060500Z"
    }
   },
   "id": "46c263862835dff7"
  },
  {
   "cell_type": "markdown",
   "source": [
    "对一个 batch 的数据进行预测，我们可以使用 `model(xb)` 来计算预测结果。"
   ],
   "metadata": {
    "collapsed": false
   },
   "id": "d8ec3cae99fc6d10"
  },
  {
   "cell_type": "code",
   "execution_count": 16,
   "outputs": [
    {
     "data": {
      "text/plain": "(tensor([-2.2544, -1.8065, -2.7254, -2.1916, -2.5198, -2.2569, -2.6142, -2.1444,\n         -2.4353, -2.4026], grad_fn=<SelectBackward0>),\n torch.Size([64, 10]))"
     },
     "execution_count": 16,
     "metadata": {},
     "output_type": "execute_result"
    }
   ],
   "source": [
    "bs = 64  # batch size\n",
    "\n",
    "xb = x_train[0:bs]  # a mini-batch from x\n",
    "preds = model(xb)  # predictions\n",
    "preds[0], preds.shape"
   ],
   "metadata": {
    "collapsed": false,
    "ExecuteTime": {
     "end_time": "2023-12-28T05:13:25.022492200Z",
     "start_time": "2023-12-28T05:13:25.015401800Z"
    }
   },
   "id": "7fde3af002bd7cd1"
  },
  {
   "cell_type": "code",
   "execution_count": null,
   "outputs": [],
   "source": [],
   "metadata": {
    "collapsed": false
   },
   "id": "eeb005c347013770"
  }
 ],
 "metadata": {
  "kernelspec": {
   "display_name": "Python 3",
   "language": "python",
   "name": "python3"
  },
  "language_info": {
   "codemirror_mode": {
    "name": "ipython",
    "version": 2
   },
   "file_extension": ".py",
   "mimetype": "text/x-python",
   "name": "python",
   "nbconvert_exporter": "python",
   "pygments_lexer": "ipython2",
   "version": "2.7.6"
  }
 },
 "nbformat": 4,
 "nbformat_minor": 5
}
